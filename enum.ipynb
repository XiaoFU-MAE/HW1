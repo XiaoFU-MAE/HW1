{
 "cells": [
  {
   "cell_type": "markdown",
   "metadata": {},
   "source": [
    "Q2(b)"
   ]
  },
  {
   "cell_type": "code",
   "execution_count": 1,
   "metadata": {},
   "outputs": [
    {
     "name": "stdout",
     "output_type": "stream",
     "text": [
      "CATERERS 86\n",
      "FOOD SERVICE 5922\n",
      "FOOD SERVICE (DAY CARE / CHILD CARE CENTER 516\n",
      "FOOD SERVICE (HOSPITAL / NURSING HOME 140\n",
      "FOOD SERVICE COMMISSARY 44\n",
      "HOME (CONTINENTAL BREAKFAST) 6\n",
      "HOME (FULL BREAKFAST) 3\n",
      "INN (FULL BREAKFAST) 2\n",
      "MOBILE RESTRICTED CONCESSION 2\n",
      "PRE-PACKAGED RETAIL 450\n",
      "RETAIL BAKERY 32\n",
      "RETAIL WITH LIMITED SERVICE 44\n",
      "RETAIL-FOOD  10,000 SQ FT OR LESS 1499\n",
      "RETAIL-FOOD  10,001 SQ FT OR OVER 408\n",
      "SALVAGE DISTRIBUTOR 2\n",
      "SCHOOL CAFETERIA OR FOOD SERVICE 431\n",
      "SELF-CONTAINED MOBILE FOOD UNITS 2\n",
      "STATIONARY RESTRICTED CONCESSON 105\n",
      "SUPERMARKET WITH PROCESSING 108\n"
     ]
    }
   ],
   "source": [
    "import lxml.etree\n",
    "doc = lxml.etree.parse(\"FoodServiceData.xml\")\n",
    "count = doc.xpath('count(//TypeDescription)')\n",
    "count1=0\n",
    "count2=0\n",
    "count3=0\n",
    "count4=0\n",
    "count5=0\n",
    "count6=0\n",
    "count7=0\n",
    "count8=0\n",
    "count9=0\n",
    "count10=0\n",
    "count11=0\n",
    "count12=0\n",
    "count13=0\n",
    "count14=0\n",
    "count15=0\n",
    "count16=0\n",
    "count17=0\n",
    "count18=0\n",
    "count19=0\n",
    "for item in doc.findall('foodservice/TypeDescription'):\n",
    "    if item.text == 'CATERERS':\n",
    "        count1+=1\n",
    "\n",
    "    elif item.text == 'FOOD SERVICE':\n",
    "        count2+=1\n",
    "    elif item.text == 'FOOD SERVICE (DAY CARE / CHILD CARE CENTER':\n",
    "        count3+=1\n",
    "    elif item.text == 'FOOD SERVICE (HOSPITAL / NURSING HOME':\n",
    "        count4+=1\n",
    "    elif item.text == 'FOOD SERVICE COMMISSARY':\n",
    "        count5+=1\n",
    "        \n",
    "    elif item.text == 'HOME (CONTINENTAL BREAKFAST)':\n",
    "        count6+=1\n",
    "    elif item.text == 'HOME (FULL BREAKFAST)':\n",
    "        count7+=1\n",
    "    elif item.text == 'INN (FULL BREAKFAST)':\n",
    "        count8+=1\n",
    "    elif item.text == 'MOBILE RESTRICTED CONCESSION':\n",
    "        count9+=1\n",
    "    elif item.text == 'PRE-PACKAGED RETAIL':\n",
    "        count10+=1\n",
    "    elif item.text == 'RETAIL BAKERY':\n",
    "        count11+=1\n",
    "    elif item.text == 'RETAIL WITH LIMITED SERVICE':\n",
    "        count12+=1\n",
    "    elif item.text == 'RETAIL-FOOD  10,000 SQ FT OR LESS':\n",
    "        count13+=1\n",
    "    elif item.text == 'RETAIL-FOOD  10,001 SQ FT OR OVER':\n",
    "        count14+=1\n",
    "    elif item.text == 'SALVAGE DISTRIBUTOR':\n",
    "        count15+=1\n",
    "    elif item.text == 'SCHOOL CAFETERIA OR FOOD SERVICE':\n",
    "        count16+=1\n",
    "    elif item.text == 'SELF-CONTAINED MOBILE FOOD UNITS':\n",
    "        count17+=1\n",
    "    elif item.text == 'STATIONARY RESTRICTED CONCESSON':\n",
    "        count18+=1\n",
    "    elif item.text == 'SUPERMARKET WITH PROCESSING':\n",
    "        count19+=1\n",
    "    \n",
    "    \n",
    "        \n",
    "print('CATERERS',count1)\n",
    "print('FOOD SERVICE',count2)\n",
    "print('FOOD SERVICE (DAY CARE / CHILD CARE CENTER',count3)\n",
    "print('FOOD SERVICE (HOSPITAL / NURSING HOME',count4)\n",
    "print('FOOD SERVICE COMMISSARY',count5)\n",
    "\n",
    "print('HOME (CONTINENTAL BREAKFAST)',count6)\n",
    "print('HOME (FULL BREAKFAST)',count7)\n",
    "print('INN (FULL BREAKFAST)',count8)\n",
    "print('MOBILE RESTRICTED CONCESSION',count9)\n",
    "print('PRE-PACKAGED RETAIL',count10)\n",
    "print('RETAIL BAKERY',count11)\n",
    "print('RETAIL WITH LIMITED SERVICE',count12)\n",
    "print('RETAIL-FOOD  10,000 SQ FT OR LESS',count13)\n",
    "print('RETAIL-FOOD  10,001 SQ FT OR OVER',count14)\n",
    "print('SALVAGE DISTRIBUTOR',count15)\n",
    "print('SCHOOL CAFETERIA OR FOOD SERVICE',count16)\n",
    "print('SELF-CONTAINED MOBILE FOOD UNITS',count17)\n",
    "print('STATIONARY RESTRICTED CONCESSON',count18)\n",
    "print('SUPERMARKET WITH PROCESSING',count19)\n",
    "\n"
   ]
  },
  {
   "cell_type": "markdown",
   "metadata": {},
   "source": [
    "Q2(c)"
   ]
  },
  {
   "cell_type": "code",
   "execution_count": 1,
   "metadata": {},
   "outputs": [
    {
     "name": "stdout",
     "output_type": "stream",
     "text": [
      "A 5986\n",
      "B 32\n",
      "C 253\n",
      "No grade 3538\n"
     ]
    }
   ],
   "source": [
    "import lxml.etree\n",
    "doc = lxml.etree.parse(\"FoodServiceData.xml\")\n",
    "countA=0\n",
    "countB=0\n",
    "countC=0\n",
    "countNA=0\n",
    "\n",
    "for item in doc.findall('foodservice/Grade'):\n",
    "    if item.text == 'A':\n",
    "        countA+=1\n",
    "\n",
    "    elif item.text == 'B':\n",
    "        countB+=1\n",
    "    elif item.text == 'C':\n",
    "        countC+=1\n",
    "    else:\n",
    "        countNA+=1\n",
    "    \n",
    "    \n",
    "print('A',countA)\n",
    "print('B',countB)\n",
    "print('C',countC)\n",
    "print('No grade',countNA)\n",
    "\n"
   ]
  }
 ],
 "metadata": {
  "kernelspec": {
   "display_name": "Python 3",
   "language": "python",
   "name": "python3"
  },
  "language_info": {
   "codemirror_mode": {
    "name": "ipython",
    "version": 3
   },
   "file_extension": ".py",
   "mimetype": "text/x-python",
   "name": "python",
   "nbconvert_exporter": "python",
   "pygments_lexer": "ipython3",
   "version": "3.8.1"
  }
 },
 "nbformat": 4,
 "nbformat_minor": 4
}
