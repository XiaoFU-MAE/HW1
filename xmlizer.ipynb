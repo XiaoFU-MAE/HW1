{
 "cells": [
  {
   "cell_type": "markdown",
   "metadata": {},
   "source": [
    "Q2(a)"
   ]
  },
  {
   "cell_type": "code",
   "execution_count": 11,
   "metadata": {},
   "outputs": [],
   "source": [
    "import csv\n",
    "\n",
    "csvFile = 'FoodServiceData.csv'\n",
    "xmlFile = 'FoodServiceData.xml'\n",
    "\n",
    "csvData = csv.reader(open(csvFile))\n",
    "xmlData = open(xmlFile, 'w')\n",
    "xmlData.write('<?xml version=\"1.0\"?>' + \"\\n\")\n",
    "# there must be only one top-level tag\n",
    "xmlData.write('<FoodServiceData>' + \"\\n\")\n",
    "\n",
    "rowNum = 0\n",
    "for row in csvData:\n",
    "    if rowNum == 0:\n",
    "        tags = row\n",
    "        # replace spaces w/ underscores in tag names\n",
    "        for i in range(len(tags)):\n",
    "            tags[i] = tags[i].replace(' ', '_')\n",
    "    else: \n",
    "        xmlData.write('<foodservice>' + \"\\n\")\n",
    "        for i in range(len(tags)):\n",
    "            xmlData.write('    ' + '<' + tags[i] + '>' \\\n",
    "                          + row[i] + '</' + tags[i] + '>' + \"\\n\")\n",
    "        xmlData.write('</foodservice>' + \"\\n\")\n",
    "            \n",
    "    rowNum +=1\n",
    "\n",
    "xmlData.write('</FoodServiceData>' + \"\\n\")\n",
    "xmlData.close()"
   ]
  }
 ],
 "metadata": {
  "kernelspec": {
   "display_name": "Python 3",
   "language": "python",
   "name": "python3"
  },
  "language_info": {
   "codemirror_mode": {
    "name": "ipython",
    "version": 3
   },
   "file_extension": ".py",
   "mimetype": "text/x-python",
   "name": "python",
   "nbconvert_exporter": "python",
   "pygments_lexer": "ipython3",
   "version": "3.8.1"
  }
 },
 "nbformat": 4,
 "nbformat_minor": 4
}
