{
 "cells": [
  {
   "cell_type": "markdown",
   "metadata": {},
   "source": [
    "Q3"
   ]
  },
  {
   "cell_type": "code",
   "execution_count": 18,
   "metadata": {},
   "outputs": [],
   "source": [
    "from lxml import etree\n",
    "import json\n",
    "import sys\n",
    "\n",
    "\n",
    "def parse_book_html(html):\n",
    "    books_list = []\n",
    "    with open(html, encoding='utf-8') as f:\n",
    "        text = f.read()\n",
    "    books_html = etree.HTML(text)\n",
    "    script_nodes = books_html.xpath('//script')[9]\n",
    "    info_str = script_nodes.text\n",
    "    index = info_str.find(\"works\")\n",
    "    books_info = json.loads(info_str[index+8:-3])\n",
    "\n",
    "    for book_info in books_info:\n",
    "        tmp_book = dict.fromkeys(('title', 'price', 'format', 'condition', 'authors'), None)\n",
    "        tmp_book['title'] = book_info.get('title', None)\n",
    "        tmp_book['price'] = book_info.get('buyNowPrice', None)\n",
    "        tmp_book['format'] = book_info.get('media', None)\n",
    "        tmp_book['condition'] = book_info.get('qualityDescription', None)\n",
    "        authors = book_info.get('authors')\n",
    "        authors_name = None\n",
    "        for author in authors:\n",
    "            authors_name = author.get('authorName', None)\n",
    "        tmp_book['authors'] = authors_name\n",
    "        books_list.append(tmp_book)\n",
    "    return books_list\n",
    "\n",
    "\n",
    "def generate_xml(books_list, xml_name):\n",
    "    f = open(xml_name, 'w')\n",
    "    f.writelines(['<?xml version=\"1.0\"?>\\n', '<books>\\n'])\n",
    "    count = 1\n",
    "    for book in books_list:\n",
    "        lines = ['\\t<book>\\n', '\\t\\t<id>' + str(count) + '</id>\\n']\n",
    "        for key, value in book.items():\n",
    "            lines.append('\\t\\t' + '<' + key + '>' + str(value) + '</' + key + '>\\n')\n",
    "        lines.append('\\t</book>\\n')\n",
    "        count += 1\n",
    "        f.writelines(lines)\n",
    "    f.write('</books>')\n",
    "    f.close()\n",
    "\n",
    "\n",
    "if __name__ == '__main__':\n",
    "    # html = './ThriftBook1.html'\n",
    "    html = 'book.html'\n",
    "    xml_name = 'book.xml'\n",
    "    books_list = parse_book_html(html)\n",
    "    generate_xml(books_list, xml_name)\n",
    "\n",
    "\n",
    "\n",
    "\n",
    "\n",
    "\n"
   ]
  }
 ],
 "metadata": {
  "kernelspec": {
   "display_name": "Python 3",
   "language": "python",
   "name": "python3"
  },
  "language_info": {
   "codemirror_mode": {
    "name": "ipython",
    "version": 3
   },
   "file_extension": ".py",
   "mimetype": "text/x-python",
   "name": "python",
   "nbconvert_exporter": "python",
   "pygments_lexer": "ipython3",
   "version": "3.8.1"
  }
 },
 "nbformat": 4,
 "nbformat_minor": 4
}
